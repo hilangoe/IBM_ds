{
 "cells": [
  {
   "cell_type": "markdown",
   "id": "147e8790-8a34-4d12-a0ef-b54bba033e91",
   "metadata": {},
   "source": [
    "# Data Science Tools and Ecosystem"
   ]
  },
  {
   "cell_type": "markdown",
   "id": "aef9dcfa-d73b-4e02-ad3a-c02b73e1521f",
   "metadata": {},
   "source": [
    "In this notebook, Data Science Tools and Ecosystem are summarized."
   ]
  },
  {
   "cell_type": "markdown",
   "id": "a93a1f71-70cd-4882-95cc-fcfdb4c04195",
   "metadata": {},
   "source": [
    "**Objectives**\n",
    "- List popular languages for Data Science\n",
    "- List common libraries used by Data Scientists\n",
    "- List data science tools used\n",
    "- Perform some basic arithmetic operations in Python"
   ]
  },
  {
   "cell_type": "markdown",
   "id": "9182de9b-825f-4081-b75d-cd484e90994f",
   "metadata": {},
   "source": [
    "Some of the popular languages that Data Scientists use are:\n",
    "1. Python\n",
    "2. R\n",
    "3. Julia\n",
    "4. SQL"
   ]
  },
  {
   "cell_type": "markdown",
   "id": "c85d4867-fb76-4e5d-87da-d9ac5c9f2a2e",
   "metadata": {},
   "source": [
    "Some of the most common libraries used by Data Scientists include:\n",
    "- Caret\n",
    "- PyTorch\n",
    "- SciKit-learn\n",
    "- ggplot2"
   ]
  },
  {
   "cell_type": "markdown",
   "id": "22d15dbe-4419-46d7-be74-26322c0d2b18",
   "metadata": {},
   "source": [
    "|**Data Science Tools**|\n",
    "|---|\n",
    "|JupyterLab|\n",
    "|RStudio|\n",
    "|Spyder|"
   ]
  },
  {
   "cell_type": "markdown",
   "id": "c960f726-2327-4549-9c10-0cb5dcb5ba76",
   "metadata": {},
   "source": [
    "### Below are a few examples of evaluating artithmetic expressions in Python"
   ]
  },
  {
   "cell_type": "code",
   "execution_count": 1,
   "id": "75966448-7d24-43cd-a960-b2e91ffd4d83",
   "metadata": {},
   "outputs": [
    {
     "data": {
      "text/plain": [
       "17"
      ]
     },
     "execution_count": 1,
     "metadata": {},
     "output_type": "execute_result"
    }
   ],
   "source": [
    "# Doing some math here\n",
    "(3*4)+5"
   ]
  },
  {
   "cell_type": "code",
   "execution_count": 2,
   "id": "34537798-bd54-452f-b1e1-e56bdf1c8e0a",
   "metadata": {},
   "outputs": [
    {
     "data": {
      "text/plain": [
       "3.3333333333333335"
      ]
     },
     "execution_count": 2,
     "metadata": {},
     "output_type": "execute_result"
    }
   ],
   "source": [
    "# Convering 200 minutes to hours by dividing by 60\n",
    "200/60"
   ]
  },
  {
   "cell_type": "markdown",
   "id": "8334c412-e0fd-4b28-92f6-54ba571da3fc",
   "metadata": {},
   "source": [
    "## Author\n",
    "Hans-Inge Langø"
   ]
  },
  {
   "cell_type": "code",
   "execution_count": null,
   "id": "34675128-2d9f-4767-bf95-c9f1ad10df27",
   "metadata": {},
   "outputs": [],
   "source": []
  }
 ],
 "metadata": {
  "kernelspec": {
   "display_name": "Python 3 (ipykernel)",
   "language": "python",
   "name": "python3"
  },
  "language_info": {
   "codemirror_mode": {
    "name": "ipython",
    "version": 3
   },
   "file_extension": ".py",
   "mimetype": "text/x-python",
   "name": "python",
   "nbconvert_exporter": "python",
   "pygments_lexer": "ipython3",
   "version": "3.10.9"
  }
 },
 "nbformat": 4,
 "nbformat_minor": 5
}
